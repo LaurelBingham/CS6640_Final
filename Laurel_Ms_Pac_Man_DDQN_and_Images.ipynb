{
  "cells": [
    {
      "cell_type": "markdown",
      "metadata": {
        "id": "ZqjvPhWQ4D4E"
      },
      "source": [
        "# Install Pygame and Atari, then update gym"
      ]
    },
    {
      "cell_type": "code",
      "execution_count": null,
      "metadata": {
        "colab": {
          "base_uri": "https://localhost:8080/"
        },
        "id": "zkP9ett8xTXK",
        "outputId": "0c5d19cd-2d17-45e0-cc56-e2d2140cfe8e"
      },
      "outputs": [
        {
          "output_type": "stream",
          "name": "stdout",
          "text": [
            "Looking in indexes: https://pypi.org/simple, https://us-python.pkg.dev/colab-wheels/public/simple/\n",
            "Requirement already satisfied: gym in /usr/local/lib/python3.8/dist-packages (0.25.2)\n",
            "Collecting gym\n",
            "  Downloading gym-0.26.2.tar.gz (721 kB)\n",
            "\u001b[K     |████████████████████████████████| 721 kB 6.9 MB/s \n",
            "\u001b[?25h  Installing build dependencies ... \u001b[?25l\u001b[?25hdone\n",
            "  Getting requirements to build wheel ... \u001b[?25l\u001b[?25hdone\n",
            "    Preparing wheel metadata ... \u001b[?25l\u001b[?25hdone\n",
            "Requirement already satisfied: cloudpickle>=1.2.0 in /usr/local/lib/python3.8/dist-packages (from gym) (1.5.0)\n",
            "Requirement already satisfied: importlib-metadata>=4.8.0 in /usr/local/lib/python3.8/dist-packages (from gym) (4.13.0)\n",
            "Requirement already satisfied: gym-notices>=0.0.4 in /usr/local/lib/python3.8/dist-packages (from gym) (0.0.8)\n",
            "Requirement already satisfied: numpy>=1.18.0 in /usr/local/lib/python3.8/dist-packages (from gym) (1.21.6)\n",
            "Requirement already satisfied: zipp>=0.5 in /usr/local/lib/python3.8/dist-packages (from importlib-metadata>=4.8.0->gym) (3.11.0)\n",
            "Building wheels for collected packages: gym\n",
            "  Building wheel for gym (PEP 517) ... \u001b[?25l\u001b[?25hdone\n",
            "  Created wheel for gym: filename=gym-0.26.2-py3-none-any.whl size=827650 sha256=3baa684e83b77a3aaab83a10085dec4c173307cd822efb2fad27b0a7b9a55373\n",
            "  Stored in directory: /root/.cache/pip/wheels/17/79/65/7afedc162d858b02708a3b8f7a6dd5b1000dcd5b0f894f7cc1\n",
            "Successfully built gym\n",
            "Installing collected packages: gym\n",
            "  Attempting uninstall: gym\n",
            "    Found existing installation: gym 0.25.2\n",
            "    Uninstalling gym-0.25.2:\n",
            "      Successfully uninstalled gym-0.25.2\n",
            "Successfully installed gym-0.26.2\n",
            "Looking in indexes: https://pypi.org/simple, https://us-python.pkg.dev/colab-wheels/public/simple/\n",
            "Requirement already satisfied: gym[accept-rom-license,atari,classic_control] in /usr/local/lib/python3.8/dist-packages (0.26.2)\n",
            "Requirement already satisfied: cloudpickle>=1.2.0 in /usr/local/lib/python3.8/dist-packages (from gym[accept-rom-license,atari,classic_control]) (1.5.0)\n",
            "Requirement already satisfied: gym-notices>=0.0.4 in /usr/local/lib/python3.8/dist-packages (from gym[accept-rom-license,atari,classic_control]) (0.0.8)\n",
            "Requirement already satisfied: numpy>=1.18.0 in /usr/local/lib/python3.8/dist-packages (from gym[accept-rom-license,atari,classic_control]) (1.21.6)\n",
            "Requirement already satisfied: importlib-metadata>=4.8.0 in /usr/local/lib/python3.8/dist-packages (from gym[accept-rom-license,atari,classic_control]) (4.13.0)\n",
            "Collecting autorom[accept-rom-license]~=0.4.2\n",
            "  Downloading AutoROM-0.4.2-py3-none-any.whl (16 kB)\n",
            "Collecting pygame==2.1.0\n",
            "  Downloading pygame-2.1.0-cp38-cp38-manylinux_2_17_x86_64.manylinux2014_x86_64.whl (18.3 MB)\n",
            "\u001b[K     |████████████████████████████████| 18.3 MB 7.2 MB/s \n",
            "\u001b[?25hCollecting ale-py~=0.8.0\n",
            "  Downloading ale_py-0.8.0-cp38-cp38-manylinux_2_17_x86_64.manylinux2014_x86_64.whl (1.7 MB)\n",
            "\u001b[K     |████████████████████████████████| 1.7 MB 81.7 MB/s \n",
            "\u001b[?25hRequirement already satisfied: importlib-resources in /usr/local/lib/python3.8/dist-packages (from ale-py~=0.8.0->gym[accept-rom-license,atari,classic_control]) (5.10.0)\n",
            "Requirement already satisfied: typing-extensions in /usr/local/lib/python3.8/dist-packages (from ale-py~=0.8.0->gym[accept-rom-license,atari,classic_control]) (4.4.0)\n",
            "Requirement already satisfied: tqdm in /usr/local/lib/python3.8/dist-packages (from autorom[accept-rom-license]~=0.4.2->gym[accept-rom-license,atari,classic_control]) (4.64.1)\n",
            "Requirement already satisfied: click in /usr/local/lib/python3.8/dist-packages (from autorom[accept-rom-license]~=0.4.2->gym[accept-rom-license,atari,classic_control]) (7.1.2)\n",
            "Requirement already satisfied: requests in /usr/local/lib/python3.8/dist-packages (from autorom[accept-rom-license]~=0.4.2->gym[accept-rom-license,atari,classic_control]) (2.23.0)\n",
            "Collecting AutoROM.accept-rom-license\n",
            "  Downloading AutoROM.accept-rom-license-0.4.2.tar.gz (9.8 kB)\n",
            "  Installing build dependencies ... \u001b[?25l\u001b[?25hdone\n",
            "  Getting requirements to build wheel ... \u001b[?25l\u001b[?25hdone\n",
            "    Preparing wheel metadata ... \u001b[?25l\u001b[?25hdone\n",
            "Requirement already satisfied: zipp>=0.5 in /usr/local/lib/python3.8/dist-packages (from importlib-metadata>=4.8.0->gym[accept-rom-license,atari,classic_control]) (3.11.0)\n",
            "Requirement already satisfied: certifi>=2017.4.17 in /usr/local/lib/python3.8/dist-packages (from requests->autorom[accept-rom-license]~=0.4.2->gym[accept-rom-license,atari,classic_control]) (2022.9.24)\n",
            "Requirement already satisfied: chardet<4,>=3.0.2 in /usr/local/lib/python3.8/dist-packages (from requests->autorom[accept-rom-license]~=0.4.2->gym[accept-rom-license,atari,classic_control]) (3.0.4)\n",
            "Requirement already satisfied: idna<3,>=2.5 in /usr/local/lib/python3.8/dist-packages (from requests->autorom[accept-rom-license]~=0.4.2->gym[accept-rom-license,atari,classic_control]) (2.10)\n",
            "Requirement already satisfied: urllib3!=1.25.0,!=1.25.1,<1.26,>=1.21.1 in /usr/local/lib/python3.8/dist-packages (from requests->autorom[accept-rom-license]~=0.4.2->gym[accept-rom-license,atari,classic_control]) (1.24.3)\n",
            "Building wheels for collected packages: AutoROM.accept-rom-license\n",
            "  Building wheel for AutoROM.accept-rom-license (PEP 517) ... \u001b[?25l\u001b[?25hdone\n",
            "  Created wheel for AutoROM.accept-rom-license: filename=AutoROM.accept_rom_license-0.4.2-py3-none-any.whl size=441028 sha256=d38ed3a2a2c9a4a289ecdbe5343479a63c0936fef32c70e7903b39a43a3f8d95\n",
            "  Stored in directory: /root/.cache/pip/wheels/51/08/c5/28b973078691a3f8baf99fcaec1ed8f0e05ef6e54d2390212c\n",
            "Successfully built AutoROM.accept-rom-license\n",
            "Installing collected packages: AutoROM.accept-rom-license, autorom, pygame, ale-py\n",
            "Successfully installed AutoROM.accept-rom-license-0.4.2 ale-py-0.8.0 autorom-0.4.2 pygame-2.1.0\n",
            "Looking in indexes: https://pypi.org/simple, https://us-python.pkg.dev/colab-wheels/public/simple/\n",
            "Collecting torchinfo\n",
            "  Downloading torchinfo-1.7.1-py3-none-any.whl (22 kB)\n",
            "Installing collected packages: torchinfo\n",
            "Successfully installed torchinfo-1.7.1\n"
          ]
        }
      ],
      "source": [
        "# Do not install Pygame directly\n",
        "# Install it using gym[classic_control] for correct versioning\n",
        "\n",
        "!pip install --upgrade gym\n",
        "!pip install gym[classic_control,atari,accept-rom-license]\n",
        "!pip install torchinfo"
      ]
    },
    {
      "cell_type": "markdown",
      "metadata": {
        "id": "XlEyvke24JNp"
      },
      "source": [
        "# Function to display MP4 files inside Colab"
      ]
    },
    {
      "cell_type": "code",
      "execution_count": null,
      "metadata": {
        "id": "ow3zerF24CI_"
      },
      "outputs": [],
      "source": [
        "from IPython.display import HTML\n",
        "from base64 import b64encode\n",
        "\n",
        "def show_video(file_name):\n",
        "    mp4 = open(file_name, \"rb\").read()\n",
        "    data_url = \"data:video/mp4;base64,\" + b64encode(mp4).decode()\n",
        "    return HTML(\"\"\"\n",
        "<video width=400 controls>\n",
        "    <source src=\"%s\" type=\"video/mp4\">\n",
        "</video>\n",
        "\"\"\" % data_url)"
      ]
    },
    {
      "cell_type": "markdown",
      "metadata": {
        "id": "hsN6wazU4IFL"
      },
      "source": [
        "# Imports"
      ]
    },
    {
      "cell_type": "code",
      "execution_count": null,
      "metadata": {
        "id": "FplP9WYZ4HQX"
      },
      "outputs": [],
      "source": [
        "import random\n",
        "from collections import deque\n",
        "import numpy as np\n",
        "\n",
        "import gym\n",
        "import ale_py\n",
        "\n",
        "import torch\n",
        "import torchinfo\n",
        "\n",
        "import matplotlib.pyplot as plt\n",
        "import seaborn as sns"
      ]
    },
    {
      "cell_type": "markdown",
      "source": [
        "# Changeable Settings\n",
        "\n",
        "It was pointed out that Atari games are entirely dterministic. Thus, agents can achieve state of the art performance just by memorizing an optimal sequence of actions while entirely ignoring observations from the environment. To avoid this, we provide some additional constraints as follows: frameskip, and repeat_action.\n",
        "\n",
        "Stochastic frame skipping will repeat an action for a specified number of frames. Sticky actions will also occasionally make a \"button sticky\" and hold the last action for an additional step.\n",
        "\n",
        "Setting both of these values to 0.0 will make learning easier, but might make it trivial, so test with [0, 0.0] values, then move to [5, 0.25].\n",
        "\n",
        "* difficulty - how hard the opponent is | range of [0, ..., 3]\n",
        "\n",
        "* frameskip - how many frames to repeat an action | default of 5\n",
        "\n",
        "* repeat_action - chance that the previous action is performed instead of the new action provided | default of 25%"
      ],
      "metadata": {
        "id": "Dcctz1C_Wo5I"
      }
    },
    {
      "cell_type": "code",
      "source": [
        "environment = gym.make(\n",
        "    \n",
        "    id=\"ALE/MsPacman-v5\",\n",
        "    mode=0,\n",
        "    obs_type=\"grayscale\",\n",
        "    full_action_space=False,\n",
        "    render_mode=\"rgb_array\",\n",
        "    # changeable parameters\n",
        "    frameskip=20,  # 5\n",
        "    repeat_action_probability=0.0,  # 0.25\n",
        ")\n",
        "\n",
        "state, _ = environment.reset()\n",
        "plt.imshow(state)\n",
        "plt.show()\n",
        "print(f\"Height: {state.shape[0]}, Width: {state.shape[1]}\")"
      ],
      "metadata": {
        "id": "AFbeVsIaTfnm",
        "colab": {
          "base_uri": "https://localhost:8080/",
          "height": 341
        },
        "outputId": "ffe970c0-e449-4935-9864-49ff53549d38"
      },
      "execution_count": null,
      "outputs": [
        {
          "output_type": "stream",
          "name": "stderr",
          "text": [
            "/usr/local/lib/python3.8/dist-packages/gym/utils/passive_env_checker.py:31: UserWarning: \u001b[33mWARN: A Box observation space has an unconventional shape (neither an image, nor a 1D vector). We recommend flattening the observation to have only a 1D vector or use a custom policy to properly process the data. Actual observation shape: (210, 160)\u001b[0m\n",
            "  logger.warn(\n"
          ]
        },
        {
          "output_type": "display_data",
          "data": {
            "text/plain": [
              "<Figure size 432x288 with 1 Axes>"
            ],
            "image/png": "[encoded data removed]"
          },
          "metadata": {
            "needs_background": "light"
          }
        },
        {
          "output_type": "stream",
          "name": "stdout",
          "text": [
            "Height: 210, Width: 160\n"
          ]
        }
      ]
    },
    {
      "cell_type": "code",
      "source": [
        "print(environment.observation_space.shape)\n"
      ],
      "metadata": {
        "id": "CzaSnx8PebEE",
        "colab": {
          "base_uri": "https://localhost:8080/"
        },
        "outputId": "853bd202-31f5-4692-df27-3fb86e16b15e"
      },
      "execution_count": null,
      "outputs": [
        {
          "output_type": "stream",
          "name": "stdout",
          "text": [
            "(210, 160)\n"
          ]
        }
      ]
    },
    {
      "cell_type": "markdown",
      "source": [
        "You can notice that the image is grayscale (er, greenscale) and has a height of 210 pixels and width of 160 pixels. We also can see a score at the top and some decorative bars at the top and bottom.\n",
        "\n",
        "The score and decorative bars do not add anything to our state, so we want to remove them as the score changes the image, but adds nothing."
      ],
      "metadata": {
        "id": "E17U5e0bYT6s"
      }
    },
    {
      "cell_type": "code",
      "source": [
        "def clean_image(image):\n",
        "    return image[1:171, :] #found dimensions by messing with parameter\n",
        "\n",
        "state, _ = environment.reset()\n",
        "state = clean_image(state)\n",
        "plt.imshow(state)\n",
        "plt.show()\n",
        "print(f\"New Height: {state.shape[0]}, New Width: {state.shape[1]}\")"
      ],
      "metadata": {
        "id": "H36gYS3lYxnA",
        "colab": {
          "base_uri": "https://localhost:8080/",
          "height": 286
        },
        "outputId": "a1b52b84-8496-47e9-be90-94c46ef1c07f"
      },
      "execution_count": null,
      "outputs": [
        {
          "output_type": "display_data",
          "data": {
            "text/plain": [
              "<Figure size 432x288 with 1 Axes>"
            ],
            "image/png": "[encoded data removed]"
          },
          "metadata": {
            "needs_background": "light"
          }
        },
        {
          "output_type": "stream",
          "name": "stdout",
          "text": [
            "New Height: 170, New Width: 160\n"
          ]
        }
      ]
    },
    {
      "cell_type": "markdown",
      "source": [
        "We want to go a bit further and trim the state down to a 64x64 image. We also need to do some extra processing to get the state ready for PyTorch."
      ],
      "metadata": {
        "id": "PnQtJS1HnQed"
      }
    },
    {
      "cell_type": "code",
      "source": [
        "# Optional - Modify the environment's step function so it cleans the state for us\n",
        "environment = gym.make(\n",
        "    id=\"ALE/MsPacman-v5\",\n",
        "    mode=0,\n",
        "    obs_type=\"grayscale\",\n",
        "    full_action_space=False,\n",
        "    render_mode=\"rgb_array\",\n",
        "\n",
        "    # changeable parameters\n",
        "    difficulty=0,\n",
        "    frameskip=20,  # 5\n",
        "    repeat_action_probability=0.0,  # 0.25\n",
        ")\n",
        "\n",
        "def clean_image(image):\n",
        "    image = image[1:171, :] #found dimensions by messing with parameter\n",
        "    image = torch.tensor(image, dtype=torch.float)\n",
        "    image = image[None, None, ...]\n",
        "    image = torch.nn.functional.interpolate(image, size=(64, 64))\n",
        "    image = image[0]\n",
        "    return image\n",
        "\n",
        "def new_step(step):\n",
        "    def wrapper(action):\n",
        "        state, reward, done, *info = step(action)\n",
        "        state = clean_image(state)\n",
        "        return state, reward, done, info\n",
        "    return wrapper\n",
        "\n",
        "def new_reset(reset):\n",
        "    def wrapper():\n",
        "        state, info = reset()\n",
        "        state = clean_image(state)\n",
        "        return state, info\n",
        "    return wrapper\n",
        "\n",
        "# Show the original image shape after a step\n",
        "print(f\"Old image size: {environment.reset()[0].shape}\")\n",
        "\n",
        "# Add our decorator to the step function\n",
        "environment.step = new_step(environment.step)\n",
        "environment.reset = new_reset(environment.reset)\n",
        "\n",
        "# Notice the shape is now different (cleaned)\n",
        "print(f\"New image size: {environment.step(0)[0].shape}\")\n",
        "image1 = environment.step(0)[0].numpy()\n",
        "\n",
        "image2 = environment.step(1)[0].numpy()\n",
        "avg = (image1 + image2) / 2\n",
        "# plt.imshow(avg[0])\n",
        "# plt.imshow(image1[0])\n",
        "plt.imshow(image1[0])\n",
        "steps = 0\n",
        "done = False\n",
        "s, _ = environment.reset()\n",
        "while not done:\n",
        "    steps += 1\n",
        "    s, r, done, *_ = environment.step(2)\n",
        "\n",
        "    if steps == 250:\n",
        "      pass\n",
        "        # plt.imshow(s[0].numpy())\n",
        "        # plt.show()\n",
        "\n",
        "    if r != 0:\n",
        "        print(f\"Step: {steps}, Reward: {r}\")\n",
        "\n",
        "# plt.imshow(s[0].numpy())\n",
        "# plt.show()\n"
      ],
      "metadata": {
        "id": "hjpB95JS8JNh",
        "colab": {
          "base_uri": "https://localhost:8080/",
          "height": 372
        },
        "outputId": "96b9bcc7-b180-479a-fc82-978415ab47f5"
      },
      "execution_count": null,
      "outputs": [
        {
          "output_type": "stream",
          "name": "stdout",
          "text": [
            "Old image size: (210, 160)\n",
            "New image size: torch.Size([1, 64, 64])\n",
            "Step: 14, Reward: 10.0\n",
            "Step: 15, Reward: 20.0\n",
            "Step: 16, Reward: 10.0\n",
            "Step: 17, Reward: 20.0\n"
          ]
        },
        {
          "output_type": "display_data",
          "data": {
            "text/plain": [
              "<Figure size 432x288 with 1 Axes>"
            ],
            "image/png": "[encoded data removed]"
          },
          "metadata": {
            "needs_background": "light"
          }
        }
      ]
    },
    {
      "cell_type": "markdown",
      "metadata": {
        "id": "9K5YJ4Ha1tYQ"
      },
      "source": [
        "# Neural Network\n",
        "\n",
        "We added a few extra layers to the neural network. They are Convolutional Layers.\n",
        "\n",
        "Here are some great graphics on what convolutional filters do along with the settings\n",
        "https://github.com/vdumoulin/conv_arithmetic/blob/master/README.md"
      ]
    },
    {
      "cell_type": "code",
      "execution_count": null,
      "metadata": {
        "id": "UvTIiEUm1unA"
      },
      "outputs": [],
      "source": [
        "class ConvolutionalNN(torch.nn.Module):\n",
        "    def __init__(self):\n",
        "        super(ConvolutionalNN, self).__init__()\n",
        "\n",
        "        self.conv1 = torch.nn.Conv2d(\n",
        "            in_channels=4,\n",
        "            out_channels=16,\n",
        "            kernel_size=(5, 5),\n",
        "            stride=1,\n",
        "            bias=False,\n",
        "        )\n",
        "\n",
        "        self.conv2 = torch.nn.Conv2d(\n",
        "            in_channels=16,\n",
        "            out_channels=32,\n",
        "            kernel_size=(3, 3),\n",
        "            stride=1,\n",
        "            bias=False,\n",
        "        )\n",
        "\n",
        "        self.conv3 = torch.nn.Conv2d(\n",
        "            in_channels=32,\n",
        "            out_channels=32,\n",
        "            kernel_size=(3, 3),\n",
        "            stride=1,\n",
        "            bias=False,\n",
        "        )\n",
        "\n",
        "        self.flatten = torch.nn.Flatten()\n",
        "\n",
        "    def forward(self, x):\n",
        "        x = self.conv1(x)\n",
        "        x = torch.nn.functional.leaky_relu(x)\n",
        "\n",
        "        x = self.conv2(x)\n",
        "        x = torch.nn.functional.leaky_relu(x)\n",
        "\n",
        "        x = self.conv3(x)\n",
        "        x = torch.nn.functional.leaky_relu(x)\n",
        "\n",
        "        x = self.flatten(x)\n",
        "        return x\n",
        "\n",
        "\n",
        "class DenseNN(torch.nn.Module):\n",
        "    def __init__(self, input_features, action_space):\n",
        "        super(DenseNN, self).__init__()\n",
        "\n",
        "        self.linear1 = torch.nn.Linear(input_features, 32)\n",
        "        self.linear2 = torch.nn.Linear(32, action_space)\n",
        "\n",
        "    def forward(self, x):\n",
        "        x = self.linear1(x)\n",
        "        x = torch.nn.functional.leaky_relu(x)\n",
        "\n",
        "        x = self.linear2(x)\n",
        "        return x\n",
        "\n",
        "\n",
        "class QualityNN(torch.nn.Module):\n",
        "    def __init__(self, action_space):\n",
        "        super(QualityNN, self).__init__()\n",
        "\n",
        "        self.cnn = ConvolutionalNN()\n",
        "        self.dnn = DenseNN(100352, action_space)\n",
        "\n",
        "    def forward(self, x):\n",
        "        x = self.cnn(x)\n",
        "        x = self.dnn(x)\n",
        "        return x"
      ]
    },
    {
      "cell_type": "code",
      "execution_count": null,
      "metadata": {
        "id": "a_vMzqOA49lM",
        "colab": {
          "base_uri": "https://localhost:8080/"
        },
        "outputId": "45f944e7-f6f7-4a1b-a135-e6850aed63a5"
      },
      "outputs": [
        {
          "output_type": "stream",
          "name": "stdout",
          "text": [
            "Qualities: tensor([ 0.7038, -4.5138,  4.7770,  1.8309,  4.2177],\n",
            "       grad_fn=<SelectBackward0>)\n",
            "Policy: We should greedily take action 2\n",
            "\n",
            "==========================================================================================\n",
            "Layer (type:depth-idx)                   Output Shape              Param #\n",
            "==========================================================================================\n",
            "QualityNN                                [1, 5]                    --\n",
            "├─ConvolutionalNN: 1-1                   [1, 100352]               --\n",
            "│    └─Conv2d: 2-1                       [1, 16, 60, 60]           1,600\n",
            "│    └─Conv2d: 2-2                       [1, 32, 58, 58]           4,608\n",
            "│    └─Conv2d: 2-3                       [1, 32, 56, 56]           9,216\n",
            "│    └─Flatten: 2-4                      [1, 100352]               --\n",
            "├─DenseNN: 1-2                           [1, 5]                    --\n",
            "│    └─Linear: 2-5                       [1, 32]                   3,211,296\n",
            "│    └─Linear: 2-6                       [1, 5]                    165\n",
            "==========================================================================================\n",
            "Total params: 3,226,885\n",
            "Trainable params: 3,226,885\n",
            "Non-trainable params: 0\n",
            "Total mult-adds (M): 53.37\n",
            "==========================================================================================\n",
            "Input size (MB): 0.07\n",
            "Forward/backward pass size (MB): 2.13\n",
            "Params size (MB): 12.91\n",
            "Estimated Total Size (MB): 15.10\n",
            "==========================================================================================\n"
          ]
        }
      ],
      "source": [
        "test_model = QualityNN(action_space=5)\n",
        "test_state = environment.reset()[0]\n",
        "test_state = torch.cat((test_state, test_state, test_state, test_state))\n",
        "batched_test_state = test_state.unsqueeze(0)\n",
        "\n",
        "batched_qualities = test_model(batched_test_state)\n",
        "qualities = batched_qualities[0]\n",
        "action = torch.argmax(qualities)\n",
        "\n",
        "print(f\"Qualities: {qualities}\")\n",
        "print(f\"Policy: We should greedily take action {action}\")\n",
        "print()\n",
        "\n",
        "print(torchinfo.summary(test_model, input_size=(1, 4, 64, 64)))"
      ]
    },
    {
      "cell_type": "markdown",
      "metadata": {
        "id": "AMfFon7l6yPK"
      },
      "source": [
        "# Memory Storage"
      ]
    },
    {
      "cell_type": "code",
      "execution_count": null,
      "metadata": {
        "id": "U7aU4iB_6ygX"
      },
      "outputs": [],
      "source": [
        "class Memory(object):\n",
        "    def __init__(self, max_size=10000):\n",
        "        self.memory = deque(maxlen=max_size)\n",
        "\n",
        "    def push(self, element):\n",
        "        self.memory.append(element)\n",
        "\n",
        "    def get_batch(self, batch_size=64):\n",
        "        if batch_size > len(self.memory):\n",
        "            batch_size = len(self.memory)\n",
        "        return random.sample(self.memory, batch_size)\n",
        "\n",
        "    def __repr__(self):\n",
        "        return f\"Current elements in memory: {len(self.memory)}\"\n",
        "\n",
        "    def __len__(self):\n",
        "        return len(self.memory)"
      ]
    },
    {
      "cell_type": "markdown",
      "metadata": {
        "id": "2LIgQyXmG3mN"
      },
      "source": [
        "# Agent"
      ]
    },
    {
      "cell_type": "code",
      "execution_count": null,
      "metadata": {
        "id": "DxIXjmCSG4xr"
      },
      "outputs": [],
      "source": [
        "class Agent(object):\n",
        "    def __init__(self, environment):\n",
        "        self.device = torch.device(\"cuda:0\" if torch.cuda.is_available() else \"cpu\")\n",
        "        self.model = QualityNN(action_space=5).to(self.device)\n",
        "        self.target_model = QualityNN(action_space=5).to(self.device)\n",
        "\n",
        "        self.optimizer = torch.optim.Adam(self.model.parameters(), lr=3e-3)\n",
        "        # change lr to 3e-4 if plateu\n",
        "\n",
        "        self.decay = 0.995  # change to 0.995 if over 1000 epochs \n",
        "        self.randomness = 1.00\n",
        "        self.min_randomness = 0.01\n",
        "\n",
        "    def act(self, state):\n",
        "        # move the state to a Torch Tensor and add a batch of size 1\n",
        "        state = state.to(self.device).unsqueeze(0)\n",
        "\n",
        "        qualities = self.model(state).cpu()\n",
        "        qualities = qualities[0]\n",
        "\n",
        "        if np.random.rand() <= self.randomness:\n",
        "            action = np.random.randint(low=0, high=qualities.size(dim=0))\n",
        "        else:\n",
        "            action = torch.argmax(qualities).item()\n",
        "\n",
        "        return action\n",
        "\n",
        "    def update(self, memory_batch):\n",
        "        states, next_states, actions, rewards = self.unpack_batch(memory_batch)\n",
        "\n",
        "        old_targets = self.old_targets(states, actions)\n",
        "        new_targets = self.new_targets(states, next_states, rewards, actions)\n",
        "        loss = torch.nn.functional.smooth_l1_loss(old_targets, new_targets)\n",
        "\n",
        "        self.optimizer.zero_grad()\n",
        "        loss.backward()\n",
        "        self.optimizer.step()\n",
        "\n",
        "        # return the loss for logging purposes\n",
        "        return loss.item()\n",
        "\n",
        "    def old_targets(self, states, actions):\n",
        "        return self.model(states).gather(1, actions)\n",
        "\n",
        "    # double DQN - change self.model to self.target_model\n",
        "    def new_targets(self, states, next_states, rewards, actions):\n",
        "        return rewards + torch.amax(self.target_model(next_states), dim=1, keepdim=True)\n",
        "\n",
        "    def unpack_batch(self, batch):\n",
        "        states, next_states, actions, rewards = zip(*batch)\n",
        "\n",
        "        states = torch.stack(states).to(self.device)\n",
        "        next_states = torch.stack(next_states).to(self.device)\n",
        "\n",
        "        actions = torch.tensor(actions).long().unsqueeze(1).to(self.device)\n",
        "        rewards = torch.tensor(rewards).float().unsqueeze(1).to(self.device)\n",
        "\n",
        "        return states, next_states, actions, rewards\n",
        "\n",
        "    # double DQN - update self.target_model.state_dict to equal self.model.state_dict\n",
        "    def update_randomness(self):\n",
        "        self.randomness *= self.decay\n",
        "        self.randomness = max(self.randomness, self.min_randomness)\n",
        "        self.target_model.state_dict = self.model.state_dict()\n"
      ]
    },
    {
      "cell_type": "markdown",
      "metadata": {
        "id": "QXtvbhhL5AQh"
      },
      "source": [
        "# TD Learning"
      ]
    },
    {
      "cell_type": "code",
      "execution_count": null,
      "metadata": {
        "id": "I4EkHhh5yjJy",
        "colab": {
          "base_uri": "https://localhost:8080/"
        },
        "outputId": "cbe3e701-2d88-4143-df98-6310fa1b7815"
      },
      "outputs": [
        {
          "output_type": "stream",
          "name": "stdout",
          "text": [
            "Iteration: 50\n",
            "  Moving-Average Wins   : 211.8\n",
            "  Memory-Buffer Size    : 10000\n",
            "  Agent Randomness      : 0.778\n",
            "\n",
            "Iteration: 100\n",
            "  Moving-Average Wins   : 317.2\n",
            "  Memory-Buffer Size    : 10000\n",
            "  Agent Randomness      : 0.606\n",
            "\n",
            "Iteration: 150\n",
            "  Moving-Average Wins   : 356.2\n",
            "  Memory-Buffer Size    : 10000\n",
            "  Agent Randomness      : 0.471\n",
            "\n",
            "Iteration: 200\n",
            "  Moving-Average Wins   : 440.4\n",
            "  Memory-Buffer Size    : 10000\n",
            "  Agent Randomness      : 0.367\n",
            "\n",
            "Iteration: 250\n",
            "  Moving-Average Wins   : 455.0\n",
            "  Memory-Buffer Size    : 10000\n",
            "  Agent Randomness      : 0.286\n",
            "\n",
            "Iteration: 300\n",
            "  Moving-Average Wins   : 412.2\n",
            "  Memory-Buffer Size    : 10000\n",
            "  Agent Randomness      : 0.222\n",
            "\n",
            "Iteration: 350\n",
            "  Moving-Average Wins   : 375.6\n",
            "  Memory-Buffer Size    : 10000\n",
            "  Agent Randomness      : 0.173\n",
            "\n",
            "Iteration: 400\n",
            "  Moving-Average Wins   : 416.8\n",
            "  Memory-Buffer Size    : 10000\n",
            "  Agent Randomness      : 0.135\n",
            "\n",
            "Iteration: 450\n",
            "  Moving-Average Wins   : 493.4\n",
            "  Memory-Buffer Size    : 10000\n",
            "  Agent Randomness      : 0.105\n",
            "\n",
            "Iteration: 500\n",
            "  Moving-Average Wins   : 513.0\n",
            "  Memory-Buffer Size    : 10000\n",
            "  Agent Randomness      : 0.082\n",
            "\n",
            "Iteration: 550\n",
            "  Moving-Average Wins   : 387.8\n",
            "  Memory-Buffer Size    : 10000\n",
            "  Agent Randomness      : 0.063\n",
            "\n",
            "Iteration: 600\n",
            "  Moving-Average Wins   : 358.4\n",
            "  Memory-Buffer Size    : 10000\n",
            "  Agent Randomness      : 0.049\n",
            "\n",
            "Iteration: 650\n",
            "  Moving-Average Wins   : 358.6\n",
            "  Memory-Buffer Size    : 10000\n",
            "  Agent Randomness      : 0.038\n",
            "\n",
            "Iteration: 700\n",
            "  Moving-Average Wins   : 353.6\n",
            "  Memory-Buffer Size    : 10000\n",
            "  Agent Randomness      : 0.030\n",
            "\n",
            "Iteration: 750\n",
            "  Moving-Average Wins   : 313.0\n",
            "  Memory-Buffer Size    : 10000\n",
            "  Agent Randomness      : 0.023\n",
            "\n",
            "Iteration: 800\n",
            "  Moving-Average Wins   : 328.4\n",
            "  Memory-Buffer Size    : 10000\n",
            "  Agent Randomness      : 0.018\n",
            "\n",
            "Iteration: 850\n",
            "  Moving-Average Wins   : 237.0\n",
            "  Memory-Buffer Size    : 10000\n",
            "  Agent Randomness      : 0.014\n",
            "\n",
            "Iteration: 900\n",
            "  Moving-Average Wins   : 234.8\n",
            "  Memory-Buffer Size    : 10000\n",
            "  Agent Randomness      : 0.011\n",
            "\n",
            "Iteration: 950\n",
            "  Moving-Average Wins   : 201.4\n",
            "  Memory-Buffer Size    : 10000\n",
            "  Agent Randomness      : 0.010\n",
            "\n",
            "Iteration: 1000\n",
            "  Moving-Average Wins   : 177.2\n",
            "  Memory-Buffer Size    : 10000\n",
            "  Agent Randomness      : 0.010\n",
            "\n",
            "Iteration: 1050\n",
            "  Moving-Average Wins   : 185.6\n",
            "  Memory-Buffer Size    : 10000\n",
            "  Agent Randomness      : 0.010\n",
            "\n",
            "Iteration: 1100\n",
            "  Moving-Average Wins   : 214.6\n",
            "  Memory-Buffer Size    : 10000\n",
            "  Agent Randomness      : 0.010\n",
            "\n",
            "Iteration: 1150\n",
            "  Moving-Average Wins   : 198.2\n",
            "  Memory-Buffer Size    : 10000\n",
            "  Agent Randomness      : 0.010\n",
            "\n",
            "Iteration: 1200\n",
            "  Moving-Average Wins   : 176.0\n",
            "  Memory-Buffer Size    : 10000\n",
            "  Agent Randomness      : 0.010\n",
            "\n",
            "Iteration: 1250\n",
            "  Moving-Average Wins   : 215.8\n",
            "  Memory-Buffer Size    : 10000\n",
            "  Agent Randomness      : 0.010\n",
            "\n",
            "Iteration: 1300\n",
            "  Moving-Average Wins   : 186.6\n",
            "  Memory-Buffer Size    : 10000\n",
            "  Agent Randomness      : 0.010\n",
            "\n",
            "Iteration: 1350\n",
            "  Moving-Average Wins   : 179.4\n",
            "  Memory-Buffer Size    : 10000\n",
            "  Agent Randomness      : 0.010\n",
            "\n",
            "Iteration: 1400\n",
            "  Moving-Average Wins   : 203.4\n",
            "  Memory-Buffer Size    : 10000\n",
            "  Agent Randomness      : 0.010\n",
            "\n",
            "Iteration: 1450\n",
            "  Moving-Average Wins   : 164.2\n",
            "  Memory-Buffer Size    : 10000\n",
            "  Agent Randomness      : 0.010\n",
            "\n",
            "Iteration: 1500\n",
            "  Moving-Average Wins   : 217.8\n",
            "  Memory-Buffer Size    : 10000\n",
            "  Agent Randomness      : 0.010\n",
            "\n",
            "Iteration: 1550\n",
            "  Moving-Average Wins   : 181.8\n",
            "  Memory-Buffer Size    : 10000\n",
            "  Agent Randomness      : 0.010\n",
            "\n",
            "Iteration: 1600\n",
            "  Moving-Average Wins   : 217.0\n",
            "  Memory-Buffer Size    : 10000\n",
            "  Agent Randomness      : 0.010\n",
            "\n",
            "Iteration: 1650\n",
            "  Moving-Average Wins   : 200.8\n",
            "  Memory-Buffer Size    : 10000\n",
            "  Agent Randomness      : 0.010\n",
            "\n",
            "Iteration: 1700\n",
            "  Moving-Average Wins   : 249.8\n",
            "  Memory-Buffer Size    : 10000\n",
            "  Agent Randomness      : 0.010\n",
            "\n",
            "Iteration: 1750\n",
            "  Moving-Average Wins   : 175.6\n",
            "  Memory-Buffer Size    : 10000\n",
            "  Agent Randomness      : 0.010\n",
            "\n",
            "Iteration: 1800\n",
            "  Moving-Average Wins   : 178.4\n",
            "  Memory-Buffer Size    : 10000\n",
            "  Agent Randomness      : 0.010\n",
            "\n",
            "Iteration: 1850\n",
            "  Moving-Average Wins   : 205.8\n",
            "  Memory-Buffer Size    : 10000\n",
            "  Agent Randomness      : 0.010\n",
            "\n",
            "Iteration: 1900\n",
            "  Moving-Average Wins   : 199.6\n",
            "  Memory-Buffer Size    : 10000\n",
            "  Agent Randomness      : 0.010\n",
            "\n",
            "Iteration: 1950\n",
            "  Moving-Average Wins   : 167.8\n",
            "  Memory-Buffer Size    : 10000\n",
            "  Agent Randomness      : 0.010\n",
            "\n",
            "Iteration: 2000\n",
            "  Moving-Average Wins   : 206.2\n",
            "  Memory-Buffer Size    : 10000\n",
            "  Agent Randomness      : 0.010\n",
            "\n"
          ]
        }
      ],
      "source": [
        "max_iteration = 2000\n",
        "logging_iteration = 50\n",
        "import imageio\n",
        "import gc \n",
        "import time\n",
        "\n",
        "# some logging values\n",
        "score_logging = []\n",
        "error_logging = []\n",
        "\n",
        "# checkpoint loading\n",
        "agent = Agent(environment)\n",
        "\n",
        "# checkpoint = torch.load(\"/content/checkpoint.pth\")\n",
        "# print(f\"Starting from iteration {checkpoint['iteration']}\")\n",
        "\n",
        "# agent.model.state_dict = checkpoint[\"model\"]\n",
        "# agent.optimizer.state_dict = checkpoint[\"optimizer\"]\n",
        "memory = Memory(max_size=10000)\n",
        "state_stack = deque(maxlen=4)\n",
        "totaltime = 0\n",
        "\n",
        "for iteration in range(1, max_iteration + 1):\n",
        "    done = False\n",
        "    state, _ = environment.reset()\n",
        "    state_stack.append(state)\n",
        "\n",
        "    # some logging values\n",
        "    wins = 0\n",
        "    losses = 0\n",
        "    score = 0\n",
        "\n",
        "    # play (do nothing) for 3 frames so we can start frame stacking\n",
        "    # option: take first frame and duplicate 3 times (4 frames total)\n",
        "    for _ in range(3):\n",
        "        state, *_ = environment.step(np.random.randint(5))\n",
        "        state_stack.append(state)\n",
        "\n",
        "    while not done:\n",
        "        # Action 2 is up. Action 3 is down\n",
        "        # Map NN action of 0->2 and action of 1->3\n",
        "        action = agent.act(torch.cat(list(state_stack)))\n",
        "        state, reward, done, *_ = environment.step(action)\n",
        "\n",
        "        last_state_stack = torch.cat(list(state_stack))\n",
        "        state_stack.append(state)\n",
        "        next_state_stack = torch.cat(list(state_stack))\n",
        "        \n",
        "        score += reward\n",
        "        # if reward == 0:\n",
        "        #   reward = 9 #maybe 10? Still try to reward gather pellets, just not so much that the agent never tries to do more than grab a few. \n",
        "        memory.push(element=(\n",
        "            last_state_stack,\n",
        "            next_state_stack,\n",
        "            action,\n",
        "            reward,\n",
        "        ))\n",
        "\n",
        "        # \"shock\" the system with wins and losses\n",
        "        if reward != 0:\n",
        "            agent.update([memory.memory[-1]])\n",
        "\n",
        "        # logging\n",
        "       \n",
        "\n",
        "    # make a few learning updates\n",
        "    for _ in range(64):\n",
        "        memory_batch = memory.get_batch(batch_size=32)\n",
        "        error = agent.update(memory_batch)\n",
        "    agent.update_randomness()\n",
        "\n",
        "    # logging values and printing some\n",
        "    error_logging.append(error)\n",
        "    score_logging.append(score)\n",
        "    score = 0\n",
        "\n",
        "    gc.collect()\n",
        "    if iteration % logging_iteration == 0:\n",
        "        print(f\"Iteration: {iteration}\")\n",
        "        print(f\"  Moving-Average Wins   : {np.mean(np.array(score_logging)[-logging_iteration:])}\")\n",
        "        print(f\"  Memory-Buffer Size    : {len(memory.memory)}\")\n",
        "        print(f\"  Agent Randomness      : {agent.randomness:.3f}\")\n",
        "        print()\n",
        "        #put checkpointing in here\n",
        "\n",
        "        # checkpoint = {\n",
        "        #     \"model\": agent.model.state_dict,\n",
        "        #     \"optimizer\": agent.optimizer.state_dict,\n",
        "        #     \"iteration\": iteration,\n",
        "        # }\n",
        "        \n",
        "        checkpoint = {\n",
        "            \"model\": agent.model.state_dict(),\n",
        "            \"optimizer\": agent.optimizer.state_dict(),\n",
        "            \"iteration\": iteration,\n",
        "        }\n",
        "        #torch.save(checkpoint, f\"./{str(iteration)}_checkpoint.pth\")\n",
        "        torch.save(checkpoint, \"./checkpoint.pth\")\n",
        "\n",
        "# print (\"Average Episode Time:\" , totaltime/max_iteration)"
      ]
    },
    {
      "cell_type": "code",
      "source": [
        "# checkpoint loading\n",
        "# agent = Agent(environment)\n",
        "\n",
        "# checkpoint = torch.load(\"/content/checkpoint2800.pth\")\n",
        "# print(f\"Starting from iteration {checkpoint['iteration']}\")\n",
        "\n",
        "# agent.model.state_dict = checkpoint[\"model\"]\n",
        "# agent.optimizer.state_dict = checkpoint[\"optimizer\"]\n",
        "\n",
        "# resume training\n",
        "# ...\n",
        "from google.colab import files\n",
        "\n",
        "files.download('/content/checkpoint.pth')"
      ],
      "metadata": {
        "id": "J4bfWwgLxW8E",
        "colab": {
          "base_uri": "https://localhost:8080/",
          "height": 17
        },
        "outputId": "3b8d2b4d-7df3-42b6-b3c4-3ac04b17a750"
      },
      "execution_count": null,
      "outputs": [
        {
          "output_type": "display_data",
          "data": {
            "text/plain": [
              "<IPython.core.display.Javascript object>"
            ],
            "application/javascript": [
              "\n",
              "    async function download(id, filename, size) {\n",
              "      if (!google.colab.kernel.accessAllowed) {\n",
              "        return;\n",
              "      }\n",
              "      const div = document.createElement('div');\n",
              "      const label = document.createElement('label');\n",
              "      label.textContent = `Downloading \"${filename}\": `;\n",
              "      div.appendChild(label);\n",
              "      const progress = document.createElement('progress');\n",
              "      progress.max = size;\n",
              "      div.appendChild(progress);\n",
              "      document.body.appendChild(div);\n",
              "\n",
              "      const buffers = [];\n",
              "      let downloaded = 0;\n",
              "\n",
              "      const channel = await google.colab.kernel.comms.open(id);\n",
              "      // Send a message to notify the kernel that we're ready.\n",
              "      channel.send({})\n",
              "\n",
              "      for await (const message of channel.messages) {\n",
              "        // Send a message to notify the kernel that we're ready.\n",
              "        channel.send({})\n",
              "        if (message.buffers) {\n",
              "          for (const buffer of message.buffers) {\n",
              "            buffers.push(buffer);\n",
              "            downloaded += buffer.byteLength;\n",
              "            progress.value = downloaded;\n",
              "          }\n",
              "        }\n",
              "      }\n",
              "      const blob = new Blob(buffers, {type: 'application/binary'});\n",
              "      const a = document.createElement('a');\n",
              "      a.href = window.URL.createObjectURL(blob);\n",
              "      a.download = filename;\n",
              "      div.appendChild(a);\n",
              "      a.click();\n",
              "      div.remove();\n",
              "    }\n",
              "  "
            ]
          },
          "metadata": {}
        },
        {
          "output_type": "display_data",
          "data": {
            "text/plain": [
              "<IPython.core.display.Javascript object>"
            ],
            "application/javascript": [
              "download(\"download_dea2f772-a896-402d-b128-4163d462896c\", \"checkpoint.pth\", 38731115)"
            ]
          },
          "metadata": {}
        }
      ]
    },
    {
      "cell_type": "markdown",
      "source": [
        "# Plotting and results"
      ],
      "metadata": {
        "id": "lYf-83INuTyx"
      }
    },
    {
      "cell_type": "code",
      "source": [
        "x = np.arange(0, len(error_logging), logging_iteration)\n",
        "y = np.add.reduceat(error_logging, x) / logging_iteration\n",
        "\n",
        "plt.plot(x, y)\n",
        "plt.title(\"Loss During Training\")\n",
        "plt.xlabel(\"Episodes\")\n",
        "plt.ylabel(\"Loss\")\n",
        "plt.show()"
      ],
      "metadata": {
        "id": "Fp9PiLpjoGl8",
        "colab": {
          "base_uri": "https://localhost:8080/",
          "height": 295
        },
        "outputId": "fc154ba5-7744-475c-969c-68f4e02848fc"
      },
      "execution_count": null,
      "outputs": [
        {
          "output_type": "display_data",
          "data": {
            "text/plain": [
              "<Figure size 432x288 with 1 Axes>"
            ],
            "image/png": "[encoded data removed]"
          },
          "metadata": {
            "needs_background": "light"
          }
        }
      ]
    },
    {
      "cell_type": "code",
      "execution_count": null,
      "metadata": {
        "id": "B4ACH7qIpyfK",
        "colab": {
          "base_uri": "https://localhost:8080/",
          "height": 295
        },
        "outputId": "24107904-157d-48ea-f062-c843f55dde06"
      },
      "outputs": [
        {
          "output_type": "display_data",
          "data": {
            "text/plain": [
              "<Figure size 432x288 with 1 Axes>"
            ],
            "image/png": "[encoded data removed]"
          },
          "metadata": {
            "needs_background": "light"
          }
        }
      ],
      "source": [
        "score = np.array(score_logging)\n",
        "\n",
        "x = np.arange(0, len(score), logging_iteration)\n",
        "y = np.add.reduceat(score, x) / logging_iteration\n",
        "\n",
        "sns.lineplot(x=x, y=y)\n",
        "plt.title(\"Score During Training\")\n",
        "plt.xlabel(\"Episodes\")\n",
        "plt.ylabel(\"Lifespan Steps\")\n",
        "plt.show()"
      ]
    },
    {
      "cell_type": "markdown",
      "metadata": {
        "id": "dp-O7ZQh8qgD"
      },
      "source": [
        "# Show some saved videos"
      ]
    },
    {
      "cell_type": "code",
      "execution_count": null,
      "metadata": {
        "id": "UpQF-9FFjStm",
        "colab": {
          "base_uri": "https://localhost:8080/"
        },
        "outputId": "17f08e16-42e0-4fda-c366-255fef4111c2"
      },
      "outputs": [
        {
          "output_type": "stream",
          "name": "stderr",
          "text": [
            "/usr/local/lib/python3.8/dist-packages/gym/utils/passive_env_checker.py:31: UserWarning: \u001b[33mWARN: A Box observation space has an unconventional shape (neither an image, nor a 1D vector). We recommend flattening the observation to have only a 1D vector or use a custom policy to properly process the data. Actual observation shape: (210, 160)\u001b[0m\n",
            "  logger.warn(\n",
            "/usr/local/lib/python3.8/dist-packages/gym/utils/passive_env_checker.py:289: UserWarning: \u001b[33mWARN: No render fps was declared in the environment (env.metadata['render_fps'] is None or not defined), rendering may occur at inconsistent fps.\u001b[0m\n",
            "  logger.warn(\n"
          ]
        }
      ],
      "source": [
        "environment = gym.make(\n",
        "    id=\"ALE/MsPacman-v5\",\n",
        "    mode=0,\n",
        "    obs_type=\"grayscale\",\n",
        "    full_action_space=False,\n",
        "    render_mode=\"rgb_array\",\n",
        "\n",
        "    # changeable parameters\n",
        "    difficulty=0,\n",
        "    frameskip=1,  # 5\n",
        "    repeat_action_probability=0.0,  # 0.25\n",
        ")\n",
        "\n",
        "environment.step = new_step(environment.step)\n",
        "environment.reset = new_reset(environment.reset)\n",
        "\n",
        "state_stack = deque(maxlen=4)\n",
        "\n",
        "done = False\n",
        "state, _ = environment.reset()\n",
        "state_stack.append(state)\n",
        "\n",
        "frames = [environment.render()]\n",
        "\n",
        "# play (do nothing) for 2 frames so we can start frame stacking\n",
        "for _ in range(3):\n",
        "    state, *_ = environment.step(np.random.randint(5))\n",
        "    state_stack.append(state)\n",
        "    frames.append(environment.render())\n",
        "\n",
        "while not done:\n",
        "    # Action 2 is up. Action 3 is down\n",
        "    # Map NN action of 0->2 and action of 1->3\n",
        "    action = agent.act(torch.cat(list(state_stack)))\n",
        "    state, reward, done, *_ = environment.step(action)\n",
        "    state_stack.append(state)\n",
        "\n",
        "    frames.append(environment.render())\n"
      ]
    },
    {
      "cell_type": "code",
      "source": [
        "import imageio\n",
        "\n",
        "imageio.mimsave(\"goodgame.gif\", frames, format=\"GIF\", fps=60)   "
      ],
      "metadata": {
        "id": "4taX_2tzSBQZ"
      },
      "execution_count": null,
      "outputs": []
    },
    {
      "cell_type": "code",
      "source": [],
      "metadata": {
        "id": "mDd4yRcDk5z6"
      },
      "execution_count": null,
      "outputs": []
    },
    {
      "cell_type": "code",
      "source": [],
      "metadata": {
        "id": "L7ae9tspuaUb"
      },
      "execution_count": null,
      "outputs": []
    }
  ],
  "metadata": {
    "accelerator": "GPU",
    "colab": {
      "collapsed_sections": [
        "XlEyvke24JNp",
        "hsN6wazU4IFL",
        "AMfFon7l6yPK"
      ],
      "provenance": []
    },
    "kernelspec": {
      "display_name": "Python 3",
      "name": "python3"
    },
    "language_info": {
      "name": "python"
    },
    "gpuClass": "premium"
  },
  "nbformat": 4,
  "nbformat_minor": 0
}